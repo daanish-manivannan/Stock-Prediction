{
  "cells": [
    {
      "cell_type": "markdown",
      "metadata": {
        "id": "view-in-github",
        "colab_type": "text"
      },
      "source": [
        "<a href=\"https://colab.research.google.com/github/daanish-manivannan/Stock-Prediction/blob/main/lstm2.ipynb\" target=\"_parent\"><img src=\"https://colab.research.google.com/assets/colab-badge.svg\" alt=\"Open In Colab\"/></a>"
      ]
    },
    {
      "cell_type": "code",
      "execution_count": null,
      "metadata": {
        "id": "i9_PVYv-ny2A"
      },
      "outputs": [],
      "source": [
        "!pip install --force-reinstall protobuf==4.21.6\n",
        "!pip install web3\n",
        "!pip install keras\n",
        "!pip install numpy\n",
        "!pip install pandas"
      ]
    },
    {
      "cell_type": "code",
      "execution_count": null,
      "metadata": {
        "id": "HmnQeifg2quG"
      },
      "outputs": [],
      "source": [
        "import web3\n",
        "from web3 import Web3\n",
        "import pandas as pd\n",
        "\n",
        "# Connect to the Ethereum blockchain\n",
        "web3 = Web3(Web3.HTTPProvider('https://mainnet.infura.io/v3/5fa131a13da745c6b1931aefb1de3d9b'))\n",
        "\n",
        "# Define the contract's address\n",
        "contract_address = '0x5B38Da6a701c568545dCfcB03FcB875f56beddC4'"
      ]
    },
    {
      "cell_type": "code",
      "source": [
        "# Define the contract's abi\n",
        "contract_abi =[\n",
        "\t{\n",
        "\t\t\"inputs\": [\n",
        "\t\t\t{\n",
        "\t\t\t\t\"internalType\": \"string\",\n",
        "\t\t\t\t\"name\": \"symbol\",\n",
        "\t\t\t\t\"type\": \"string\"\n",
        "\t\t\t},\n",
        "\t\t\t{\n",
        "\t\t\t\t\"internalType\": \"uint256\",\n",
        "\t\t\t\t\"name\": \"prevClose\",\n",
        "\t\t\t\t\"type\": \"uint256\"\n",
        "\t\t\t},\n",
        "\t\t\t{\n",
        "\t\t\t\t\"internalType\": \"uint256\",\n",
        "\t\t\t\t\"name\": \"open\",\n",
        "\t\t\t\t\"type\": \"uint256\"\n",
        "\t\t\t},\n",
        "\t\t\t{\n",
        "\t\t\t\t\"internalType\": \"uint256\",\n",
        "\t\t\t\t\"name\": \"high\",\n",
        "\t\t\t\t\"type\": \"uint256\"\n",
        "\t\t\t},\n",
        "\t\t\t{\n",
        "\t\t\t\t\"internalType\": \"uint256\",\n",
        "\t\t\t\t\"name\": \"low\",\n",
        "\t\t\t\t\"type\": \"uint256\"\n",
        "\t\t\t},\n",
        "\t\t\t{\n",
        "\t\t\t\t\"internalType\": \"uint256\",\n",
        "\t\t\t\t\"name\": \"close\",\n",
        "\t\t\t\t\"type\": \"uint256\"\n",
        "\t\t\t},\n",
        "\t\t\t{\n",
        "\t\t\t\t\"internalType\": \"uint256\",\n",
        "\t\t\t\t\"name\": \"volume\",\n",
        "\t\t\t\t\"type\": \"uint256\"\n",
        "\t\t\t}\n",
        "\t\t],\n",
        "\t\t\"name\": \"addStock\",\n",
        "\t\t\"outputs\": [],\n",
        "\t\t\"stateMutability\": \"nonpayable\",\n",
        "\t\t\"type\": \"function\"\n",
        "\t},\n",
        "\t{\n",
        "\t\t\"inputs\": [\n",
        "\t\t\t{\n",
        "\t\t\t\t\"internalType\": \"string\",\n",
        "\t\t\t\t\"name\": \"symbol\",\n",
        "\t\t\t\t\"type\": \"string\"\n",
        "\t\t\t}\n",
        "\t\t],\n",
        "\t\t\"name\": \"deleteStock\",\n",
        "\t\t\"outputs\": [],\n",
        "\t\t\"stateMutability\": \"nonpayable\",\n",
        "\t\t\"type\": \"function\"\n",
        "\t},\n",
        "\t{\n",
        "\t\t\"inputs\": [\n",
        "\t\t\t{\n",
        "\t\t\t\t\"internalType\": \"string\",\n",
        "\t\t\t\t\"name\": \"symbol\",\n",
        "\t\t\t\t\"type\": \"string\"\n",
        "\t\t\t}\n",
        "\t\t],\n",
        "\t\t\"name\": \"getAveragePrice\",\n",
        "\t\t\"outputs\": [\n",
        "\t\t\t{\n",
        "\t\t\t\t\"internalType\": \"uint256\",\n",
        "\t\t\t\t\"name\": \"\",\n",
        "\t\t\t\t\"type\": \"uint256\"\n",
        "\t\t\t}\n",
        "\t\t],\n",
        "\t\t\"stateMutability\": \"view\",\n",
        "\t\t\"type\": \"function\"\n",
        "\t},\n",
        "\t{\n",
        "\t\t\"inputs\": [\n",
        "\t\t\t{\n",
        "\t\t\t\t\"internalType\": \"string\",\n",
        "\t\t\t\t\"name\": \"symbol\",\n",
        "\t\t\t\t\"type\": \"string\"\n",
        "\t\t\t}\n",
        "\t\t],\n",
        "\t\t\"name\": \"getStock\",\n",
        "\t\t\"outputs\": [\n",
        "\t\t\t{\n",
        "\t\t\t\t\"internalType\": \"uint256\",\n",
        "\t\t\t\t\"name\": \"\",\n",
        "\t\t\t\t\"type\": \"uint256\"\n",
        "\t\t\t},\n",
        "\t\t\t{\n",
        "\t\t\t\t\"internalType\": \"uint256\",\n",
        "\t\t\t\t\"name\": \"\",\n",
        "\t\t\t\t\"type\": \"uint256\"\n",
        "\t\t\t},\n",
        "\t\t\t{\n",
        "\t\t\t\t\"internalType\": \"uint256\",\n",
        "\t\t\t\t\"name\": \"\",\n",
        "\t\t\t\t\"type\": \"uint256\"\n",
        "\t\t\t},\n",
        "\t\t\t{\n",
        "\t\t\t\t\"internalType\": \"uint256\",\n",
        "\t\t\t\t\"name\": \"\",\n",
        "\t\t\t\t\"type\": \"uint256\"\n",
        "\t\t\t},\n",
        "\t\t\t{\n",
        "\t\t\t\t\"internalType\": \"uint256\",\n",
        "\t\t\t\t\"name\": \"\",\n",
        "\t\t\t\t\"type\": \"uint256\"\n",
        "\t\t\t},\n",
        "\t\t\t{\n",
        "\t\t\t\t\"internalType\": \"uint256\",\n",
        "\t\t\t\t\"name\": \"\",\n",
        "\t\t\t\t\"type\": \"uint256\"\n",
        "\t\t\t}\n",
        "\t\t],\n",
        "\t\t\"stateMutability\": \"view\",\n",
        "\t\t\"type\": \"function\"\n",
        "\t},\n",
        "\t{\n",
        "\t\t\"inputs\": [\n",
        "\t\t\t{\n",
        "\t\t\t\t\"internalType\": \"string\",\n",
        "\t\t\t\t\"name\": \"symbol\",\n",
        "\t\t\t\t\"type\": \"string\"\n",
        "\t\t\t}\n",
        "\t\t],\n",
        "\t\t\"name\": \"getVolumeWeightedPrice\",\n",
        "\t\t\"outputs\": [\n",
        "\t\t\t{\n",
        "\t\t\t\t\"internalType\": \"uint256\",\n",
        "\t\t\t\t\"name\": \"\",\n",
        "\t\t\t\t\"type\": \"uint256\"\n",
        "\t\t\t}\n",
        "\t\t],\n",
        "\t\t\"stateMutability\": \"view\",\n",
        "\t\t\"type\": \"function\"\n",
        "\t},\n",
        "\t{\n",
        "\t\t\"inputs\": [\n",
        "\t\t\t{\n",
        "\t\t\t\t\"internalType\": \"string\",\n",
        "\t\t\t\t\"name\": \"\",\n",
        "\t\t\t\t\"type\": \"string\"\n",
        "\t\t\t}\n",
        "\t\t],\n",
        "\t\t\"name\": \"stocks\",\n",
        "\t\t\"outputs\": [\n",
        "\t\t\t{\n",
        "\t\t\t\t\"internalType\": \"uint256\",\n",
        "\t\t\t\t\"name\": \"prevClose\",\n",
        "\t\t\t\t\"type\": \"uint256\"\n",
        "\t\t\t},\n",
        "\t\t\t{\n",
        "\t\t\t\t\"internalType\": \"uint256\",\n",
        "\t\t\t\t\"name\": \"open\",\n",
        "\t\t\t\t\"type\": \"uint256\"\n",
        "\t\t\t},\n",
        "\t\t\t{\n",
        "\t\t\t\t\"internalType\": \"uint256\",\n",
        "\t\t\t\t\"name\": \"high\",\n",
        "\t\t\t\t\"type\": \"uint256\"\n",
        "\t\t\t},\n",
        "\t\t\t{\n",
        "\t\t\t\t\"internalType\": \"uint256\",\n",
        "\t\t\t\t\"name\": \"low\",\n",
        "\t\t\t\t\"type\": \"uint256\"\n",
        "\t\t\t},\n",
        "\t\t\t{\n",
        "\t\t\t\t\"internalType\": \"uint256\",\n",
        "\t\t\t\t\"name\": \"close\",\n",
        "\t\t\t\t\"type\": \"uint256\"\n",
        "\t\t\t},\n",
        "\t\t\t{\n",
        "\t\t\t\t\"internalType\": \"uint256\",\n",
        "\t\t\t\t\"name\": \"volume\",\n",
        "\t\t\t\t\"type\": \"uint256\"\n",
        "\t\t\t}\n",
        "\t\t],\n",
        "\t\t\"stateMutability\": \"view\",\n",
        "\t\t\"type\": \"function\"\n",
        "\t},\n",
        "\t{\n",
        "\t\t\"inputs\": [\n",
        "\t\t\t{\n",
        "\t\t\t\t\"internalType\": \"string\",\n",
        "\t\t\t\t\"name\": \"symbol\",\n",
        "\t\t\t\t\"type\": \"string\"\n",
        "\t\t\t},\n",
        "\t\t\t{\n",
        "\t\t\t\t\"internalType\": \"uint256\",\n",
        "\t\t\t\t\"name\": \"prevClose\",\n",
        "\t\t\t\t\"type\": \"uint256\"\n",
        "\t\t\t},\n",
        "\t\t\t{\n",
        "\t\t\t\t\"internalType\": \"uint256\",\n",
        "\t\t\t\t\"name\": \"open\",\n",
        "\t\t\t\t\"type\": \"uint256\"\n",
        "\t\t\t},\n",
        "\t\t\t{\n",
        "\t\t\t\t\"internalType\": \"uint256\",\n",
        "\t\t\t\t\"name\": \"high\",\n",
        "\t\t\t\t\"type\": \"uint256\"\n",
        "\t\t\t},\n",
        "\t\t\t{\n",
        "\t\t\t\t\"internalType\": \"uint256\",\n",
        "\t\t\t\t\"name\": \"low\",\n",
        "\t\t\t\t\"type\": \"uint256\"\n",
        "\t\t\t},\n",
        "\t\t\t{\n",
        "\t\t\t\t\"internalType\": \"uint256\",\n",
        "\t\t\t\t\"name\": \"close\",\n",
        "\t\t\t\t\"type\": \"uint256\"\n",
        "\t\t\t},\n",
        "\t\t\t{\n",
        "\t\t\t\t\"internalType\": \"uint256\",\n",
        "\t\t\t\t\"name\": \"volume\",\n",
        "\t\t\t\t\"type\": \"uint256\"\n",
        "\t\t\t}\n",
        "\t\t],\n",
        "\t\t\"name\": \"updateStock\",\n",
        "\t\t\"outputs\": [],\n",
        "\t\t\"stateMutability\": \"nonpayable\",\n",
        "\t\t\"type\": \"function\"\n",
        "\t}\n",
        "]"
      ],
      "metadata": {
        "id": "9yQrKcqd-O5r"
      },
      "execution_count": null,
      "outputs": []
    },
    {
      "cell_type": "code",
      "execution_count": null,
      "metadata": {
        "id": "iVAu-wDH2KAg"
      },
      "outputs": [],
      "source": [
        "from web3 import Web3\n",
        "# Create a contract instance\n",
        "contract = web3.eth.contract(address=contract_address, abi=contract_abi)\n",
        "\n",
        "#print the funcstions used in the contract\n",
        "for func in contract.functions: print(func)\n",
        "\n",
        "# Retrieve the data from the contract\n",
        "print(contract.functions.stocks.call())\n",
        "\n",
        "# Convert the data into a pandas DataFrame\n",
        "df = pd.read_json(data)"
      ]
    },
    {
      "cell_type": "code",
      "source": [
        "import json\n",
        "\n",
        "# Open the JSON file\n",
        "with open('/content/scenariofinal.json', 'r') as f:\n",
        "    # Load the contents of the file as a Python object\n",
        "    data = json.load(f)\n",
        "\n",
        "# Access the data as a Python object\n",
        "#print(data['close'])\n",
        "#print(data['age'])\n",
        "#print(data)\n",
        "\n",
        "# Convert the JSON data to a Pandas DataFrame\n",
        "df = pd.json_normalize(data)\n",
        "\n",
        "# Print the DataFrame\n",
        "print(df)"
      ],
      "metadata": {
        "id": "zk2gfMT8TmTx",
        "colab": {
          "base_uri": "https://localhost:8080/"
        },
        "outputId": "5623ae1f-884b-4b7d-c135-1f5274afca59"
      },
      "execution_count": null,
      "outputs": [
        {
          "output_type": "stream",
          "name": "stdout",
          "text": [
            "                                        transactions  \\\n",
            "0  [{'timestamp': 1684673232548, 'record': {'valu...   \n",
            "\n",
            "                          accounts.account{0}  \\\n",
            "0  0x5B38Da6a701c568545dCfcB03FcB875f56beddC4   \n",
            "\n",
            "  abis.0x18978f65408e5b1f17d19d658cc1d97059a07c8a22006c8cd37658eec5b4af99  \\\n",
            "0  [{'inputs': [{'internalType': 'bytes32', 'name...                        \n",
            "\n",
            "  abis.0x314d5265ceee5dcf745bbce341ca0b6346d0f7ec54244c31645f30b723b9e9a2  \n",
            "0  [{'inputs': [{'internalType': 'string', 'name'...                       \n"
          ]
        }
      ]
    },
    {
      "cell_type": "code",
      "source": [
        "# Access the \"parameters\" object within the JSON\n",
        "parameters = data[\"transactions\"][2][\"record\"][\"parameters\"]\n",
        "\n",
        "# Print the \"parameters\" object\n",
        "print(parameters)"
      ],
      "metadata": {
        "colab": {
          "base_uri": "https://localhost:8080/"
        },
        "id": "pGdJhzZzalcB",
        "outputId": "5a92faf8-f979-4ebd-d124-e16284eeb18c"
      },
      "execution_count": null,
      "outputs": [
        {
          "output_type": "stream",
          "name": "stdout",
          "text": [
            "['TCS', '850', '1199', '1199', '979', '988', '17116372']\n"
          ]
        }
      ]
    },
    {
      "cell_type": "code",
      "source": [
        "\n",
        "\n",
        "# Access the \"parameters\" object for each transaction\n",
        "for transaction in data[\"transactions\"]:\n",
        "    if \"record\" in transaction and \"parameters\" in transaction[\"record\"]:\n",
        "        parameters = transaction[\"record\"][\"parameters\"]\n",
        "        print(parameters)\n"
      ],
      "metadata": {
        "colab": {
          "base_uri": "https://localhost:8080/"
        },
        "id": "-TQfkc-cYk1g",
        "outputId": "4a57328f-129a-4284-8eeb-7808e9ebdcb6"
      },
      "execution_count": null,
      "outputs": [
        {
          "output_type": "stream",
          "name": "stdout",
          "text": [
            "[]\n",
            "[]\n",
            "['TCS', '850', '1199', '1199', '979', '988', '17116372']\n",
            "['TCS', '988', '992', '997', '975', '979', '5055400']\n",
            "['TCS', '979', '982', '982', '959', '963', '3830750']\n",
            "['TCS', '987', '986', '990', '976', '988', '2649332']\n",
            "['TCS', '988', '990', '1005', '986', '994', '2669544']\n",
            "['TCS', '998', '1040', '1040', '993', '995', '1129834']\n",
            "['TCS', '995', '1035', '1035', '995', '996', '721529']\n",
            "['TCS', '996', '996', '1001', '991', '994', '824248']\n",
            "['TCS', '994', '997', '998', '978', '980', '993398']\n",
            "['TCS', '980', '990', '990', '976', '989', '801884']\n",
            "['TCS', '989', '991', '1016', '991', '1004', '2613114']\n",
            "['TCS', '1004', '1005', '1019', '1003', '1016', '1916934']\n",
            "['TCS', '1016', '1018', '1020', '1001', '1006', '1498536']\n",
            "['TCS', '1016', '1018', '1020', '1001', '1006', '1498536']\n",
            "['TCS', '1006', '1007', '1015', '1002', '1008', '919778']\n",
            "['TCS', '1008', '1012', '1030', '1010', '1024', '1828487']\n",
            "['TCS', '1024', '1032', '1037', '1020', '1023', '1069028']\n",
            "['TCS', '1023', '1025', '1048', '1022', '1046', '1737135']\n",
            "['TCS', '1046', '1048', '1056', '1037', '1052', '1921448']\n",
            "['TCS', '1052', '1048', '1049', '1027', '1030', '1977460']\n",
            "['TCS', '1030', '1029', '1040', '1026', '1029', '1010401']\n",
            "['TCS', '1029', '1028', '1032', '1015', '1021', '1028689']\n",
            "['TCS', '1021', '1016', '1027', '1012', '1016', '792427']\n",
            "['TCS', '1016', '1019', '1033', '1016', '1031', '1467147']\n",
            "['TCS', '1031', '1036', '1041', '1021', '1027', '1565179']\n",
            "['TCS', '1027', '1029', '1056', '1026', '1048', '1371111']\n",
            "['TCS', '1048', '1057', '1081', '1054', '1076', '1891228']\n",
            "['TCS', '1076', '1080', '1089', '1076', '1081', '1792661']\n",
            "['TCS', '1081', '1081', '1103', '1075', '1082', '2208833']\n",
            "['TCS', '1082', '1083', '1100', '1083', '1097', '1260016']\n",
            "['TCS', '1097', '1098', '1111', '1095', '1098', '1069865']\n",
            "['TCS', '1098', '1100', '1104', '1094', '1101', '258539']\n",
            "['TCS', '1101', '1100', '1112', '1085', '1089', '1166507']\n",
            "['TCS', '1089', '1110', '1115', '1078', '1084', '1950064']\n",
            "['TCS', '1084', '1103', '1124', '1088', '1116', '2403248']\n",
            "['TCS', '1116', '1122', '1141', '1117', '1126', '2224968']\n",
            "['TCS', '1126', '1134', '1142', '1125', '1137', '1711668']\n",
            "['TCS', '1137', '1140', '1149', '1136', '1143', '1470891']\n",
            "['TCS', '1143', '1145', '1150', '1129', '1133', '900854']\n",
            "['TCS', '1133', '1137', '1139', '1122', '1126', '801690']\n",
            "['TCS', '1126', '1125', '1127', '1111', '1117', '1173784']\n",
            "['TCS', '1117', '1116', '1141', '1116', '1137', '866595']\n",
            "['TCS', '1137', '1142', '1148', '1135', '1140', '979707']\n",
            "['TCS', '1140', '1145', '1175', '1145', '1166', '2323927']\n",
            "['TCS', '1166', '1168', '1168', '1145', '1156', '1082722']\n",
            "['TCS', '1156', '1150', '1174', '1142', '1171', '767196']\n",
            "['TCS', '1171', '1130', '1180', '1125', '1160', '1108005']\n",
            "['TCS', '1160', '1161', '1184', '1161', '1175', '1122267']\n",
            "['TCS', '1175', '1182', '1188', '1168', '1170', '819476']\n"
          ]
        }
      ]
    },
    {
      "cell_type": "code",
      "source": [
        "\n",
        "# Create an empty list to store the parameters\n",
        "parameters_list = []\n",
        "\n",
        "# Access the \"parameters\" object for each transaction\n",
        "for transaction in data[\"transactions\"]:\n",
        "    if \"record\" in transaction and \"parameters\" in transaction[\"record\"]:\n",
        "        parameters = transaction[\"record\"][\"parameters\"]\n",
        "        parameters_list.append(parameters)\n",
        "\n",
        "# Convert the list of parameters into a DataFrame\n",
        "df = pd.DataFrame(parameters_list)\n",
        "\n",
        "# Print the DataFrame\n",
        "print(df)\n"
      ],
      "metadata": {
        "colab": {
          "base_uri": "https://localhost:8080/"
        },
        "id": "jOCAIp9ah62t",
        "outputId": "6778e39a-7bf3-4ca6-8128-2aa57c768753"
      },
      "execution_count": null,
      "outputs": [
        {
          "output_type": "stream",
          "name": "stdout",
          "text": [
            "       0     1     2     3     4     5         6\n",
            "0   None  None  None  None  None  None      None\n",
            "1   None  None  None  None  None  None      None\n",
            "2    TCS   850  1199  1199   979   988  17116372\n",
            "3    TCS   988   992   997   975   979   5055400\n",
            "4    TCS   979   982   982   959   963   3830750\n",
            "5    TCS   987   986   990   976   988   2649332\n",
            "6    TCS   988   990  1005   986   994   2669544\n",
            "7    TCS   998  1040  1040   993   995   1129834\n",
            "8    TCS   995  1035  1035   995   996    721529\n",
            "9    TCS   996   996  1001   991   994    824248\n",
            "10   TCS   994   997   998   978   980    993398\n",
            "11   TCS   980   990   990   976   989    801884\n",
            "12   TCS   989   991  1016   991  1004   2613114\n",
            "13   TCS  1004  1005  1019  1003  1016   1916934\n",
            "14   TCS  1016  1018  1020  1001  1006   1498536\n",
            "15   TCS  1016  1018  1020  1001  1006   1498536\n",
            "16   TCS  1006  1007  1015  1002  1008    919778\n",
            "17   TCS  1008  1012  1030  1010  1024   1828487\n",
            "18   TCS  1024  1032  1037  1020  1023   1069028\n",
            "19   TCS  1023  1025  1048  1022  1046   1737135\n",
            "20   TCS  1046  1048  1056  1037  1052   1921448\n",
            "21   TCS  1052  1048  1049  1027  1030   1977460\n",
            "22   TCS  1030  1029  1040  1026  1029   1010401\n",
            "23   TCS  1029  1028  1032  1015  1021   1028689\n",
            "24   TCS  1021  1016  1027  1012  1016    792427\n",
            "25   TCS  1016  1019  1033  1016  1031   1467147\n",
            "26   TCS  1031  1036  1041  1021  1027   1565179\n",
            "27   TCS  1027  1029  1056  1026  1048   1371111\n",
            "28   TCS  1048  1057  1081  1054  1076   1891228\n",
            "29   TCS  1076  1080  1089  1076  1081   1792661\n",
            "30   TCS  1081  1081  1103  1075  1082   2208833\n",
            "31   TCS  1082  1083  1100  1083  1097   1260016\n",
            "32   TCS  1097  1098  1111  1095  1098   1069865\n",
            "33   TCS  1098  1100  1104  1094  1101    258539\n",
            "34   TCS  1101  1100  1112  1085  1089   1166507\n",
            "35   TCS  1089  1110  1115  1078  1084   1950064\n",
            "36   TCS  1084  1103  1124  1088  1116   2403248\n",
            "37   TCS  1116  1122  1141  1117  1126   2224968\n",
            "38   TCS  1126  1134  1142  1125  1137   1711668\n",
            "39   TCS  1137  1140  1149  1136  1143   1470891\n",
            "40   TCS  1143  1145  1150  1129  1133    900854\n",
            "41   TCS  1133  1137  1139  1122  1126    801690\n",
            "42   TCS  1126  1125  1127  1111  1117   1173784\n",
            "43   TCS  1117  1116  1141  1116  1137    866595\n",
            "44   TCS  1137  1142  1148  1135  1140    979707\n",
            "45   TCS  1140  1145  1175  1145  1166   2323927\n",
            "46   TCS  1166  1168  1168  1145  1156   1082722\n",
            "47   TCS  1156  1150  1174  1142  1171    767196\n",
            "48   TCS  1171  1130  1180  1125  1160   1108005\n",
            "49   TCS  1160  1161  1184  1161  1175   1122267\n",
            "50   TCS  1175  1182  1188  1168  1170    819476\n"
          ]
        }
      ]
    },
    {
      "cell_type": "code",
      "source": [
        "# Define column names\n",
        "column_names = [\"Symbol\", \"prevClose\", \"open\", \"high\", \"low\", \"close\", \"volume\"]\n",
        "\n",
        "# Remove rows with None values\n",
        "df = df.dropna()\n",
        "\n",
        "# Convert the list of parameters into a DataFrame\n",
        "df = pd.DataFrame(parameters_list, columns=column_names)\n",
        "print(df)"
      ],
      "metadata": {
        "colab": {
          "base_uri": "https://localhost:8080/"
        },
        "id": "Hi-8y72dfOpE",
        "outputId": "e8d10be4-091b-49bd-dfa8-38e377b15df4"
      },
      "execution_count": null,
      "outputs": [
        {
          "output_type": "stream",
          "name": "stdout",
          "text": [
            "   Symbol prevClose  open  high   low close    volume\n",
            "0    None      None  None  None  None  None      None\n",
            "1    None      None  None  None  None  None      None\n",
            "2     TCS       850  1199  1199   979   988  17116372\n",
            "3     TCS       988   992   997   975   979   5055400\n",
            "4     TCS       979   982   982   959   963   3830750\n",
            "5     TCS       987   986   990   976   988   2649332\n",
            "6     TCS       988   990  1005   986   994   2669544\n",
            "7     TCS       998  1040  1040   993   995   1129834\n",
            "8     TCS       995  1035  1035   995   996    721529\n",
            "9     TCS       996   996  1001   991   994    824248\n",
            "10    TCS       994   997   998   978   980    993398\n",
            "11    TCS       980   990   990   976   989    801884\n",
            "12    TCS       989   991  1016   991  1004   2613114\n",
            "13    TCS      1004  1005  1019  1003  1016   1916934\n",
            "14    TCS      1016  1018  1020  1001  1006   1498536\n",
            "15    TCS      1016  1018  1020  1001  1006   1498536\n",
            "16    TCS      1006  1007  1015  1002  1008    919778\n",
            "17    TCS      1008  1012  1030  1010  1024   1828487\n",
            "18    TCS      1024  1032  1037  1020  1023   1069028\n",
            "19    TCS      1023  1025  1048  1022  1046   1737135\n",
            "20    TCS      1046  1048  1056  1037  1052   1921448\n",
            "21    TCS      1052  1048  1049  1027  1030   1977460\n",
            "22    TCS      1030  1029  1040  1026  1029   1010401\n",
            "23    TCS      1029  1028  1032  1015  1021   1028689\n",
            "24    TCS      1021  1016  1027  1012  1016    792427\n",
            "25    TCS      1016  1019  1033  1016  1031   1467147\n",
            "26    TCS      1031  1036  1041  1021  1027   1565179\n",
            "27    TCS      1027  1029  1056  1026  1048   1371111\n",
            "28    TCS      1048  1057  1081  1054  1076   1891228\n",
            "29    TCS      1076  1080  1089  1076  1081   1792661\n",
            "30    TCS      1081  1081  1103  1075  1082   2208833\n",
            "31    TCS      1082  1083  1100  1083  1097   1260016\n",
            "32    TCS      1097  1098  1111  1095  1098   1069865\n",
            "33    TCS      1098  1100  1104  1094  1101    258539\n",
            "34    TCS      1101  1100  1112  1085  1089   1166507\n",
            "35    TCS      1089  1110  1115  1078  1084   1950064\n",
            "36    TCS      1084  1103  1124  1088  1116   2403248\n",
            "37    TCS      1116  1122  1141  1117  1126   2224968\n",
            "38    TCS      1126  1134  1142  1125  1137   1711668\n",
            "39    TCS      1137  1140  1149  1136  1143   1470891\n",
            "40    TCS      1143  1145  1150  1129  1133    900854\n",
            "41    TCS      1133  1137  1139  1122  1126    801690\n",
            "42    TCS      1126  1125  1127  1111  1117   1173784\n",
            "43    TCS      1117  1116  1141  1116  1137    866595\n",
            "44    TCS      1137  1142  1148  1135  1140    979707\n",
            "45    TCS      1140  1145  1175  1145  1166   2323927\n",
            "46    TCS      1166  1168  1168  1145  1156   1082722\n",
            "47    TCS      1156  1150  1174  1142  1171    767196\n",
            "48    TCS      1171  1130  1180  1125  1160   1108005\n",
            "49    TCS      1160  1161  1184  1161  1175   1122267\n",
            "50    TCS      1175  1182  1188  1168  1170    819476\n"
          ]
        }
      ]
    },
    {
      "cell_type": "code",
      "source": [
        "import pandas as pd\n",
        "import numpy as np\n",
        "from sklearn.preprocessing import MinMaxScaler\n",
        "from tensorflow.keras.models import Sequential\n",
        "from tensorflow.keras.layers import LSTM, Dense\n",
        "\n",
        "# Assuming your DataFrame is stored in the variable 'df'\n",
        "\n",
        "# Select the relevant columns for the LSTM model\n",
        "selected_columns = [\"prevClose\", \"open\", \"high\", \"low\", \"close\", \"volume\"]\n",
        "df_selected = df[selected_columns]\n",
        "\n",
        "# Normalize the data\n",
        "scaler = MinMaxScaler()\n",
        "df_normalized = scaler.fit_transform(df_selected)\n",
        "\n",
        "# Split the data into training and testing sets\n",
        "train_size = int(len(df_normalized) * 0.8)\n",
        "train_data = df_normalized[:train_size]\n",
        "test_data = df_normalized[train_size:]\n",
        "\n",
        "# Define the number of previous time steps to consider\n",
        "num_steps = 3\n",
        "\n",
        "# Convert the data into sequences\n",
        "def create_sequences(data, num_steps):\n",
        "    X, y = [], []\n",
        "    for i in range(len(data) - num_steps):\n",
        "        X.append(data[i : i + num_steps])\n",
        "        y.append(data[i + num_steps])\n",
        "    return np.array(X), np.array(y)\n",
        "\n",
        "X_train, y_train = create_sequences(train_data, num_steps)\n",
        "X_test, y_test = create_sequences(test_data, num_steps)\n",
        "\n",
        "# Build the LSTM model\n",
        "model = Sequential()\n",
        "model.add(LSTM(units=50, input_shape=(num_steps, len(selected_columns))))\n",
        "model.add(Dense(units=len(selected_columns)))\n",
        "model.compile(optimizer='adam', loss='mean_squared_error')\n",
        "\n",
        "# Train the model\n",
        "model.fit(X_train, y_train, epochs=10, batch_size=32)\n",
        "\n",
        "# Evaluate the model\n",
        "loss = model.evaluate(X_test, y_test)\n",
        "print('Test loss:', loss)\n"
      ],
      "metadata": {
        "colab": {
          "base_uri": "https://localhost:8080/"
        },
        "id": "fd7kd2sItDym",
        "outputId": "47608a41-4c34-4641-fc2b-8a13460ae77d"
      },
      "execution_count": null,
      "outputs": [
        {
          "output_type": "stream",
          "name": "stdout",
          "text": [
            "Epoch 1/10\n",
            "2/2 [==============================] - 3s 14ms/step - loss: nan\n",
            "Epoch 2/10\n",
            "2/2 [==============================] - 0s 9ms/step - loss: nan\n",
            "Epoch 3/10\n",
            "2/2 [==============================] - 0s 11ms/step - loss: nan\n",
            "Epoch 4/10\n",
            "2/2 [==============================] - 0s 14ms/step - loss: nan\n",
            "Epoch 5/10\n",
            "2/2 [==============================] - 0s 11ms/step - loss: nan\n",
            "Epoch 6/10\n",
            "2/2 [==============================] - 0s 14ms/step - loss: nan\n",
            "Epoch 7/10\n",
            "2/2 [==============================] - 0s 11ms/step - loss: nan\n",
            "Epoch 8/10\n",
            "2/2 [==============================] - 0s 10ms/step - loss: nan\n",
            "Epoch 9/10\n",
            "2/2 [==============================] - 0s 10ms/step - loss: nan\n",
            "Epoch 10/10\n",
            "2/2 [==============================] - 0s 11ms/step - loss: nan\n",
            "1/1 [==============================] - 1s 771ms/step - loss: nan\n",
            "Test loss: nan\n"
          ]
        }
      ]
    },
    {
      "cell_type": "code",
      "source": [
        "\n",
        "# Assume the StockMarket contract is deployed and has a function getStocksall() that returns all the stocks and their attributes\n",
        "# Retrieve the data from the contract and convert it to a pandas dataframe\n",
        "symbols, previousCloses, opens, highs, lows, closes, volumes = contract.getStocksall()\n",
        "data = pd.DataFrame({'Symbol': symbols, 'Previous Close': previousCloses, 'Open': opens, 'High': highs, 'Low': lows, 'Close': closes, 'Volume': volumes})\n"
      ],
      "metadata": {
        "id": "9Fe01cdOcq81"
      },
      "execution_count": null,
      "outputs": []
    },
    {
      "cell_type": "code",
      "execution_count": null,
      "metadata": {
        "id": "VolFgT_Q2Cdy"
      },
      "outputs": [],
      "source": [
        "import pandas as pd\n",
        "import numpy as np\n",
        "from sklearn.preprocessing import MinMaxScaler\n",
        "from keras.models import Sequential\n",
        "from keras.layers import Dense, LSTM\n",
        "\n",
        "# Preprocess the data\n",
        "scaler = MinMaxScaler(feature_range=(0, 1))\n",
        "scaled_data = scaler.fit_transform(data.drop(['Symbol'], axis=1))\n",
        "\n",
        "# Split the data into training and testing sets\n",
        "training_size = int(len(scaled_data) * 0.8)\n",
        "train_data = scaled_data[0:training_size, :]\n",
        "test_data = scaled_data[training_size:, :]\n",
        "\n",
        "# Define the function to create the LSTM model\n",
        "def create_lstm_model(data):\n",
        "    x_train, y_train = [], []\n",
        "    for i in range(10, len(data)):\n",
        "        x_train.append(data[i-10:i, :])\n",
        "        y_train.append(data[i, 0])\n",
        "    x_train, y_train = np.array(x_train), np.array(y_train)\n",
        "    model = Sequential()\n",
        "    model.add(LSTM(units=50, return_sequences=True, input_shape=(x_train.shape[1], x_train.shape[2])))\n",
        "    model.add(LSTM(units=50))\n",
        "    model.add(Dense(units=1))\n",
        "    model.compile(optimizer='adam', loss='mean_squared_error')\n",
        "    model.fit(x_train, y_train, epochs=100, batch_size=32)\n",
        "    return model\n",
        "\n",
        "# Train the LSTM model\n",
        "lstm_model = create_lstm_model(train_data)\n",
        "\n",
        "# Make predictions on the test data\n",
        "x_test, y_test = [], []\n",
        "for i in range(10, len(test_data)):\n",
        "    x_test.append(test_data[i-10:i, :])\n",
        "    y_test.append(test_data[i, 0])\n",
        "x_test, y_test = np.array(x_test), np.array(y_test)\n",
        "y_pred = lstm_model.predict(x_test)\n",
        "y_pred = scaler.inverse_transform(y_pred)\n",
        "\n",
        "# Compute the accuracy of the predictions\n",
        "rmse = np.sqrt(np.mean(np.power((y_test - y_pred), 2)))\n",
        "print('RMSE:', rmse)"
      ]
    },
    {
      "cell_type": "markdown",
      "source": [
        "\n",
        "\n",
        "*   The Model is now trained using a normal environment to test its accuracy\n",
        "\n"
      ],
      "metadata": {
        "id": "ZdZLKbDFKHK_"
      }
    },
    {
      "cell_type": "code",
      "execution_count": null,
      "metadata": {
        "colab": {
          "base_uri": "https://localhost:8080/"
        },
        "id": "BP692cKqegFS",
        "outputId": "e9bd1032-46cb-4e36-e278-011b659bf542"
      },
      "outputs": [
        {
          "output_type": "stream",
          "name": "stdout",
          "text": [
            "3252/3252 [==============================] - 100s 29ms/step - loss: 0.0010\n",
            "26/26 [==============================] - 1s 16ms/step\n",
            "24.198176355142834\n"
          ]
        }
      ],
      "source": [
        "# This is a test machine for the above csv file formated code\n",
        "\n",
        "import pandas as pd\n",
        "import numpy as np\n",
        "from sklearn.preprocessing import MinMaxScaler\n",
        "from keras.models import Sequential\n",
        "from keras.layers import Dense, LSTM\n",
        "\n",
        "# Load the data\n",
        "df = pd.read_csv('/content/TCS SAMPLW DATA_refined.csv')\n",
        "\n",
        "# Preprocess the data\n",
        "data = df.filter(['Close']).values\n",
        "scaler = MinMaxScaler(feature_range=(0, 1))\n",
        "scaled_data = scaler.fit_transform(data)\n",
        "\n",
        "# Split the data into training and testing sets\n",
        "training_data_len = int(np.ceil(len(data) * 0.8))\n",
        "train_data = scaled_data[0:training_data_len, :]\n",
        "x_train = []\n",
        "y_train = []\n",
        "for i in range(60, len(train_data)):\n",
        "    x_train.append(train_data[i-60:i, 0])\n",
        "    y_train.append(train_data[i, 0])\n",
        "x_train, y_train = np.array(x_train), np.array(y_train)\n",
        "x_train = np.reshape(x_train, (x_train.shape[0], x_train.shape[1], 1))\n",
        "\n",
        "# Define the LSTM model architecture\n",
        "model = Sequential()\n",
        "model.add(LSTM(50, return_sequences=True, input_shape=(x_train.shape[1], 1)))\n",
        "model.add(LSTM(50, return_sequences=False))\n",
        "model.add(Dense(25))\n",
        "model.add(Dense(1))\n",
        "\n",
        "# Train the model on the training set\n",
        "model.compile(optimizer='adam', loss='mean_squared_error')\n",
        "model.fit(x_train, y_train, batch_size=1, epochs=1)\n",
        "\n",
        "# Use the trained model to make predictions on new data\n",
        "test_data = scaled_data[training_data_len - 60:, :]\n",
        "x_test = []\n",
        "y_test = data[training_data_len:, :]\n",
        "for i in range(60, len(test_data)):\n",
        "    x_test.append(test_data[i-60:i, 0])\n",
        "x_test = np.array(x_test)\n",
        "x_test = np.reshape(x_test, (x_test.shape[0], x_test.shape[1], 1))\n",
        "predictions = model.predict(x_test)\n",
        "predictions = scaler.inverse_transform(predictions)\n",
        "\n",
        "# Evaluate the model's performance on the testing set\n",
        "rmse = np.sqrt(np.mean(predictions - y_test)**2)\n",
        "print(rmse)"
      ]
    },
    {
      "cell_type": "code",
      "source": [
        "import pandas as pd\n",
        "df2=pd.read_csv('/content/TCS SAMPLW DATA_refined.csv')\n",
        "print(df2)"
      ],
      "metadata": {
        "colab": {
          "base_uri": "https://localhost:8080/"
        },
        "id": "73XnsPr_sIIq",
        "outputId": "47ee1d61-3752-442d-fe85-161b549c0159"
      },
      "execution_count": null,
      "outputs": [
        {
          "output_type": "stream",
          "name": "stdout",
          "text": [
            "      Unnamed: 0 Symbol  Prev Close  Open  High   Low  Close    Volume\n",
            "0              0    TCS         850  1199  1199   979    988  17116372\n",
            "1              1    TCS         988   992   997   975    979   5055400\n",
            "2              2    TCS         979   982   982   959    963   3830750\n",
            "3              3    TCS         963   970   990   965    987   3058151\n",
            "4              4    TCS         987   986   990   976    988   2649332\n",
            "...          ...    ...         ...   ...   ...   ...    ...       ...\n",
            "4134        4134    TCS        3110  3102  3153  3088   3101   2490260\n",
            "4135        4135    TCS        3101  3106  3136  3103   3132   1471417\n",
            "4136        4136    TCS        3132  3150  3151  3112   3124   1639037\n",
            "4137        4137    TCS        3124  3146  3157  3106   3115   1621395\n",
            "4138        4138    TCS        3115  3099  3132  3020   3036   3072305\n",
            "\n",
            "[4139 rows x 8 columns]\n"
          ]
        }
      ]
    },
    {
      "cell_type": "code",
      "source": [
        "!pip install matplotlib"
      ],
      "metadata": {
        "colab": {
          "base_uri": "https://localhost:8080/"
        },
        "id": "ckwt1dTFOqrV",
        "outputId": "54bb3b6c-47b6-4412-cfa0-a36b7599093b"
      },
      "execution_count": null,
      "outputs": [
        {
          "output_type": "stream",
          "name": "stdout",
          "text": [
            "Looking in indexes: https://pypi.org/simple, https://us-python.pkg.dev/colab-wheels/public/simple/\n",
            "Requirement already satisfied: matplotlib in /usr/local/lib/python3.10/dist-packages (3.7.1)\n",
            "Requirement already satisfied: contourpy>=1.0.1 in /usr/local/lib/python3.10/dist-packages (from matplotlib) (1.0.7)\n",
            "Requirement already satisfied: cycler>=0.10 in /usr/local/lib/python3.10/dist-packages (from matplotlib) (0.11.0)\n",
            "Requirement already satisfied: fonttools>=4.22.0 in /usr/local/lib/python3.10/dist-packages (from matplotlib) (4.39.3)\n",
            "Requirement already satisfied: kiwisolver>=1.0.1 in /usr/local/lib/python3.10/dist-packages (from matplotlib) (1.4.4)\n",
            "Requirement already satisfied: numpy>=1.20 in /usr/local/lib/python3.10/dist-packages (from matplotlib) (1.22.4)\n",
            "Requirement already satisfied: packaging>=20.0 in /usr/local/lib/python3.10/dist-packages (from matplotlib) (23.1)\n",
            "Requirement already satisfied: pillow>=6.2.0 in /usr/local/lib/python3.10/dist-packages (from matplotlib) (8.4.0)\n",
            "Requirement already satisfied: pyparsing>=2.3.1 in /usr/local/lib/python3.10/dist-packages (from matplotlib) (3.0.9)\n",
            "Requirement already satisfied: python-dateutil>=2.7 in /usr/local/lib/python3.10/dist-packages (from matplotlib) (2.8.2)\n",
            "Requirement already satisfied: six>=1.5 in /usr/local/lib/python3.10/dist-packages (from python-dateutil>=2.7->matplotlib) (1.16.0)\n"
          ]
        }
      ]
    },
    {
      "cell_type": "code",
      "source": [
        "import matplotlib.pyplot as plt\n",
        "\n",
        "# Plot the actual vs predicted values\n",
        "plt.scatter(x_test, y_test, color='red', label='Actual')\n",
        "plt.scatter(x_test, predictions, color='blue', label='Predicted')\n",
        "\n",
        "# Add labels and legend\n",
        "plt.xlabel('Date')\n",
        "plt.ylabel('Closing Price')\n",
        "plt.title('Actual vs Predicted Closing Prices')\n",
        "plt.legend()\n",
        "\n",
        "# Show the plot\n",
        "plt.show()"
      ],
      "metadata": {
        "colab": {
          "base_uri": "https://localhost:8080/",
          "height": 815
        },
        "id": "C_OO1el3Oela",
        "outputId": "a45b4781-e503-4a08-a333-bb3cf91a2075"
      },
      "execution_count": null,
      "outputs": [
        {
          "output_type": "error",
          "ename": "ValueError",
          "evalue": "ignored",
          "traceback": [
            "\u001b[0;31m---------------------------------------------------------------------------\u001b[0m",
            "\u001b[0;31mValueError\u001b[0m                                Traceback (most recent call last)",
            "\u001b[0;32m<ipython-input-33-033b8d14d38f>\u001b[0m in \u001b[0;36m<cell line: 4>\u001b[0;34m()\u001b[0m\n\u001b[1;32m      2\u001b[0m \u001b[0;34m\u001b[0m\u001b[0m\n\u001b[1;32m      3\u001b[0m \u001b[0;31m# Plot the actual vs predicted values\u001b[0m\u001b[0;34m\u001b[0m\u001b[0;34m\u001b[0m\u001b[0m\n\u001b[0;32m----> 4\u001b[0;31m \u001b[0mplt\u001b[0m\u001b[0;34m.\u001b[0m\u001b[0mscatter\u001b[0m\u001b[0;34m(\u001b[0m\u001b[0mx_test\u001b[0m\u001b[0;34m,\u001b[0m \u001b[0my_test\u001b[0m\u001b[0;34m,\u001b[0m \u001b[0mcolor\u001b[0m\u001b[0;34m=\u001b[0m\u001b[0;34m'red'\u001b[0m\u001b[0;34m,\u001b[0m \u001b[0mlabel\u001b[0m\u001b[0;34m=\u001b[0m\u001b[0;34m'Actual'\u001b[0m\u001b[0;34m)\u001b[0m\u001b[0;34m\u001b[0m\u001b[0;34m\u001b[0m\u001b[0m\n\u001b[0m\u001b[1;32m      5\u001b[0m \u001b[0mplt\u001b[0m\u001b[0;34m.\u001b[0m\u001b[0mscatter\u001b[0m\u001b[0;34m(\u001b[0m\u001b[0mx_test\u001b[0m\u001b[0;34m,\u001b[0m \u001b[0mpredictions\u001b[0m\u001b[0;34m,\u001b[0m \u001b[0mcolor\u001b[0m\u001b[0;34m=\u001b[0m\u001b[0;34m'blue'\u001b[0m\u001b[0;34m,\u001b[0m \u001b[0mlabel\u001b[0m\u001b[0;34m=\u001b[0m\u001b[0;34m'Predicted'\u001b[0m\u001b[0;34m)\u001b[0m\u001b[0;34m\u001b[0m\u001b[0;34m\u001b[0m\u001b[0m\n\u001b[1;32m      6\u001b[0m \u001b[0;34m\u001b[0m\u001b[0m\n",
            "\u001b[0;32m/usr/local/lib/python3.10/dist-packages/matplotlib/pyplot.py\u001b[0m in \u001b[0;36mscatter\u001b[0;34m(x, y, s, c, marker, cmap, norm, vmin, vmax, alpha, linewidths, edgecolors, plotnonfinite, data, **kwargs)\u001b[0m\n\u001b[1;32m   2860\u001b[0m         \u001b[0mvmin\u001b[0m\u001b[0;34m=\u001b[0m\u001b[0;32mNone\u001b[0m\u001b[0;34m,\u001b[0m \u001b[0mvmax\u001b[0m\u001b[0;34m=\u001b[0m\u001b[0;32mNone\u001b[0m\u001b[0;34m,\u001b[0m \u001b[0malpha\u001b[0m\u001b[0;34m=\u001b[0m\u001b[0;32mNone\u001b[0m\u001b[0;34m,\u001b[0m \u001b[0mlinewidths\u001b[0m\u001b[0;34m=\u001b[0m\u001b[0;32mNone\u001b[0m\u001b[0;34m,\u001b[0m \u001b[0;34m*\u001b[0m\u001b[0;34m,\u001b[0m\u001b[0;34m\u001b[0m\u001b[0;34m\u001b[0m\u001b[0m\n\u001b[1;32m   2861\u001b[0m         edgecolors=None, plotnonfinite=False, data=None, **kwargs):\n\u001b[0;32m-> 2862\u001b[0;31m     __ret = gca().scatter(\n\u001b[0m\u001b[1;32m   2863\u001b[0m         \u001b[0mx\u001b[0m\u001b[0;34m,\u001b[0m \u001b[0my\u001b[0m\u001b[0;34m,\u001b[0m \u001b[0ms\u001b[0m\u001b[0;34m=\u001b[0m\u001b[0ms\u001b[0m\u001b[0;34m,\u001b[0m \u001b[0mc\u001b[0m\u001b[0;34m=\u001b[0m\u001b[0mc\u001b[0m\u001b[0;34m,\u001b[0m \u001b[0mmarker\u001b[0m\u001b[0;34m=\u001b[0m\u001b[0mmarker\u001b[0m\u001b[0;34m,\u001b[0m \u001b[0mcmap\u001b[0m\u001b[0;34m=\u001b[0m\u001b[0mcmap\u001b[0m\u001b[0;34m,\u001b[0m \u001b[0mnorm\u001b[0m\u001b[0;34m=\u001b[0m\u001b[0mnorm\u001b[0m\u001b[0;34m,\u001b[0m\u001b[0;34m\u001b[0m\u001b[0;34m\u001b[0m\u001b[0m\n\u001b[1;32m   2864\u001b[0m         \u001b[0mvmin\u001b[0m\u001b[0;34m=\u001b[0m\u001b[0mvmin\u001b[0m\u001b[0;34m,\u001b[0m \u001b[0mvmax\u001b[0m\u001b[0;34m=\u001b[0m\u001b[0mvmax\u001b[0m\u001b[0;34m,\u001b[0m \u001b[0malpha\u001b[0m\u001b[0;34m=\u001b[0m\u001b[0malpha\u001b[0m\u001b[0;34m,\u001b[0m \u001b[0mlinewidths\u001b[0m\u001b[0;34m=\u001b[0m\u001b[0mlinewidths\u001b[0m\u001b[0;34m,\u001b[0m\u001b[0;34m\u001b[0m\u001b[0;34m\u001b[0m\u001b[0m\n",
            "\u001b[0;32m/usr/local/lib/python3.10/dist-packages/matplotlib/__init__.py\u001b[0m in \u001b[0;36minner\u001b[0;34m(ax, data, *args, **kwargs)\u001b[0m\n\u001b[1;32m   1440\u001b[0m     \u001b[0;32mdef\u001b[0m \u001b[0minner\u001b[0m\u001b[0;34m(\u001b[0m\u001b[0max\u001b[0m\u001b[0;34m,\u001b[0m \u001b[0;34m*\u001b[0m\u001b[0margs\u001b[0m\u001b[0;34m,\u001b[0m \u001b[0mdata\u001b[0m\u001b[0;34m=\u001b[0m\u001b[0;32mNone\u001b[0m\u001b[0;34m,\u001b[0m \u001b[0;34m**\u001b[0m\u001b[0mkwargs\u001b[0m\u001b[0;34m)\u001b[0m\u001b[0;34m:\u001b[0m\u001b[0;34m\u001b[0m\u001b[0;34m\u001b[0m\u001b[0m\n\u001b[1;32m   1441\u001b[0m         \u001b[0;32mif\u001b[0m \u001b[0mdata\u001b[0m \u001b[0;32mis\u001b[0m \u001b[0;32mNone\u001b[0m\u001b[0;34m:\u001b[0m\u001b[0;34m\u001b[0m\u001b[0;34m\u001b[0m\u001b[0m\n\u001b[0;32m-> 1442\u001b[0;31m             \u001b[0;32mreturn\u001b[0m \u001b[0mfunc\u001b[0m\u001b[0;34m(\u001b[0m\u001b[0max\u001b[0m\u001b[0;34m,\u001b[0m \u001b[0;34m*\u001b[0m\u001b[0mmap\u001b[0m\u001b[0;34m(\u001b[0m\u001b[0msanitize_sequence\u001b[0m\u001b[0;34m,\u001b[0m \u001b[0margs\u001b[0m\u001b[0;34m)\u001b[0m\u001b[0;34m,\u001b[0m \u001b[0;34m**\u001b[0m\u001b[0mkwargs\u001b[0m\u001b[0;34m)\u001b[0m\u001b[0;34m\u001b[0m\u001b[0;34m\u001b[0m\u001b[0m\n\u001b[0m\u001b[1;32m   1443\u001b[0m \u001b[0;34m\u001b[0m\u001b[0m\n\u001b[1;32m   1444\u001b[0m         \u001b[0mbound\u001b[0m \u001b[0;34m=\u001b[0m \u001b[0mnew_sig\u001b[0m\u001b[0;34m.\u001b[0m\u001b[0mbind\u001b[0m\u001b[0;34m(\u001b[0m\u001b[0max\u001b[0m\u001b[0;34m,\u001b[0m \u001b[0;34m*\u001b[0m\u001b[0margs\u001b[0m\u001b[0;34m,\u001b[0m \u001b[0;34m**\u001b[0m\u001b[0mkwargs\u001b[0m\u001b[0;34m)\u001b[0m\u001b[0;34m\u001b[0m\u001b[0;34m\u001b[0m\u001b[0m\n",
            "\u001b[0;32m/usr/local/lib/python3.10/dist-packages/matplotlib/axes/_axes.py\u001b[0m in \u001b[0;36mscatter\u001b[0;34m(self, x, y, s, c, marker, cmap, norm, vmin, vmax, alpha, linewidths, edgecolors, plotnonfinite, **kwargs)\u001b[0m\n\u001b[1;32m   4582\u001b[0m         \u001b[0my\u001b[0m \u001b[0;34m=\u001b[0m \u001b[0mnp\u001b[0m\u001b[0;34m.\u001b[0m\u001b[0mma\u001b[0m\u001b[0;34m.\u001b[0m\u001b[0mravel\u001b[0m\u001b[0;34m(\u001b[0m\u001b[0my\u001b[0m\u001b[0;34m)\u001b[0m\u001b[0;34m\u001b[0m\u001b[0;34m\u001b[0m\u001b[0m\n\u001b[1;32m   4583\u001b[0m         \u001b[0;32mif\u001b[0m \u001b[0mx\u001b[0m\u001b[0;34m.\u001b[0m\u001b[0msize\u001b[0m \u001b[0;34m!=\u001b[0m \u001b[0my\u001b[0m\u001b[0;34m.\u001b[0m\u001b[0msize\u001b[0m\u001b[0;34m:\u001b[0m\u001b[0;34m\u001b[0m\u001b[0;34m\u001b[0m\u001b[0m\n\u001b[0;32m-> 4584\u001b[0;31m             \u001b[0;32mraise\u001b[0m \u001b[0mValueError\u001b[0m\u001b[0;34m(\u001b[0m\u001b[0;34m\"x and y must be the same size\"\u001b[0m\u001b[0;34m)\u001b[0m\u001b[0;34m\u001b[0m\u001b[0;34m\u001b[0m\u001b[0m\n\u001b[0m\u001b[1;32m   4585\u001b[0m \u001b[0;34m\u001b[0m\u001b[0m\n\u001b[1;32m   4586\u001b[0m         \u001b[0;32mif\u001b[0m \u001b[0ms\u001b[0m \u001b[0;32mis\u001b[0m \u001b[0;32mNone\u001b[0m\u001b[0;34m:\u001b[0m\u001b[0;34m\u001b[0m\u001b[0;34m\u001b[0m\u001b[0m\n",
            "\u001b[0;31mValueError\u001b[0m: x and y must be the same size"
          ]
        },
        {
          "output_type": "display_data",
          "data": {
            "text/plain": [
              "<Figure size 640x480 with 1 Axes>"
            ],
            "image/png": "[encoded data removed]"
          },
          "metadata": {}
        }
      ]
    }
  ],
  "metadata": {
    "colab": {
      "provenance": [],
      "toc_visible": true,
      "authorship_tag": "ABX9TyP6fRREpwFJPmoY4d+/j9VQ",
      "include_colab_link": true
    },
    "kernelspec": {
      "display_name": "Python 3",
      "name": "python3"
    },
    "language_info": {
      "name": "python"
    }
  },
  "nbformat": 4,
  "nbformat_minor": 0
}